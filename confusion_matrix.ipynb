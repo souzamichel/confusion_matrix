{
  "nbformat": 4,
  "nbformat_minor": 0,
  "metadata": {
    "colab": {
      "provenance": [],
      "authorship_tag": "ABX9TyMxzndqICbI9HJYL0JvefVL",
      "include_colab_link": true
    },
    "kernelspec": {
      "name": "python3",
      "display_name": "Python 3"
    },
    "language_info": {
      "name": "python"
    }
  },
  "cells": [
    {
      "cell_type": "markdown",
      "metadata": {
        "id": "view-in-github",
        "colab_type": "text"
      },
      "source": [
        "<a href=\"https://colab.research.google.com/github/souzamichel/confusion_matrix/blob/main/confusion_matrix.ipynb\" target=\"_parent\"><img src=\"https://colab.research.google.com/assets/colab-badge.svg\" alt=\"Open In Colab\"/></a>"
      ]
    },
    {
      "cell_type": "code",
      "execution_count": 1,
      "metadata": {
        "colab": {
          "base_uri": "https://localhost:8080/"
        },
        "id": "EWWcFR8ZrRmn",
        "outputId": "eaea57f2-3b52-4af9-c477-9443d49a1a19"
      },
      "outputs": [
        {
          "output_type": "stream",
          "name": "stdout",
          "text": [
            "== Implementação Manual ==\n",
            "VP: 3, VN: 4, FP: 1, FN: 2\n",
            "Acurácia:       0.7\n",
            "Sensibilidade:  0.6\n",
            "Especificidade: 0.8\n",
            "Precisão:       0.75\n",
            "F1-score:       0.6666666666666665\n",
            "\n",
            "== scikit-learn ==\n",
            "Matriz de Confusão:\n",
            " [[4 1]\n",
            " [2 3]]\n",
            "Acurácia:       0.7\n",
            "Sensibilidade:  0.6\n",
            "Especificidade: 0.8\n",
            "Precisão:       0.75\n",
            "F1-score:       0.6666666666666666\n"
          ]
        }
      ],
      "source": [
        "def confusion_matrix_vals(y_true, y_pred):\n",
        "    \"\"\"\n",
        "    Calcula VP, VN, FP, FN para classificação binária.\n",
        "    Assume classes binárias 0 (negativo) e 1 (positivo).\n",
        "    \"\"\"\n",
        "    vp = vn = fp = fn = 0\n",
        "    for true, pred in zip(y_true, y_pred):\n",
        "        if true == 1 and pred == 1:\n",
        "            vp += 1\n",
        "        elif true == 0 and pred == 0:\n",
        "            vn += 1\n",
        "        elif true == 0 and pred == 1:\n",
        "            fp += 1\n",
        "        elif true == 1 and pred == 0:\n",
        "            fn += 1\n",
        "    return vp, vn, fp, fn\n",
        "\n",
        "def accuracy(vp, vn, fp, fn):\n",
        "    total = vp + vn + fp + fn\n",
        "    return (vp + vn) / total if total else 0\n",
        "\n",
        "def sensitivity(vp, vn, fp, fn):\n",
        "    # mesma coisa que recall\n",
        "    denom = vp + fn\n",
        "    return vp / denom if denom else 0\n",
        "\n",
        "def specificity(vp, vn, fp, fn):\n",
        "    denom = vn + fp\n",
        "    return vn / denom if denom else 0\n",
        "\n",
        "def precision(vp, vn, fp, fn):\n",
        "    denom = vp + fp\n",
        "    return vp / denom if denom else 0\n",
        "\n",
        "def f1_score(vp, vn, fp, fn):\n",
        "    p = precision(vp, vn, fp, fn)\n",
        "    s = sensitivity(vp, vn, fp, fn)\n",
        "    denom = p + s\n",
        "    return 2 * (p * s) / denom if denom else 0\n",
        "\n",
        "if __name__ == \"__main__\":\n",
        "    # Exemplo de rótulos verdadeiros e preditos\n",
        "    y_true = [1, 0, 1, 1, 0, 0, 1, 0, 1, 0]\n",
        "    y_pred = [1, 0, 1, 0, 0, 1, 1, 0, 0, 0]\n",
        "\n",
        "    # 1) Implementação Manual\n",
        "    vp, vn, fp, fn = confusion_matrix_vals(y_true, y_pred)\n",
        "    print(\"== Implementação Manual ==\")\n",
        "    print(f\"VP: {vp}, VN: {vn}, FP: {fp}, FN: {fn}\")\n",
        "    print(\"Acurácia:      \", accuracy(vp, vn, fp, fn))\n",
        "    print(\"Sensibilidade: \", sensitivity(vp, vn, fp, fn))\n",
        "    print(\"Especificidade:\", specificity(vp, vn, fp, fn))\n",
        "    print(\"Precisão:      \", precision(vp, vn, fp, fn))\n",
        "    print(\"F1-score:      \", f1_score(vp, vn, fp, fn))\n",
        "    print()\n",
        "\n",
        "    # 2) Usando scikit-learn\n",
        "    from sklearn.metrics import confusion_matrix, accuracy_score, recall_score\n",
        "    from sklearn.metrics import precision_score, f1_score as skl_f1\n",
        "\n",
        "    cm = confusion_matrix(y_true, y_pred)\n",
        "    # cm = [[VN, FP],\n",
        "    #       [FN, VP]]\n",
        "    tn, fp_skl, fn_skl, tp = cm.ravel()\n",
        "    print(\"== scikit-learn ==\")\n",
        "    print(\"Matriz de Confusão:\\n\", cm)\n",
        "    print(\"Acurácia:      \", accuracy_score(y_true, y_pred))\n",
        "    print(\"Sensibilidade: \", recall_score(y_true, y_pred))\n",
        "    print(\"Especificidade:\", tn / (tn + fp_skl) if (tn + fp_skl) else 0)\n",
        "    print(\"Precisão:      \", precision_score(y_true, y_pred))\n",
        "    print(\"F1-score:      \", skl_f1(y_true, y_pred))\n"
      ]
    }
  ]
}